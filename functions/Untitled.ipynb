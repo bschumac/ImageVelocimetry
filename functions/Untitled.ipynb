{
 "cells": [
  {
   "cell_type": "code",
   "execution_count": 7,
   "metadata": {},
   "outputs": [],
   "source": [
    "import numpy as np\n",
    "import progressbar\n",
    "import copy\n",
    "\n",
    "def moving_window_array(array, window_size, overlap):\n",
    "    sz = array.itemsize\n",
    "    shape = array.shape\n",
    "    array = np.ascontiguousarray(array)\n",
    "\n",
    "    strides = (sz * shape[1] * (window_size - overlap),\n",
    "               sz * (window_size - overlap), sz * shape[1], sz)\n",
    "    shape = (int((shape[0] - window_size) / (window_size - overlap)) + 1, int(\n",
    "        (shape[1] - window_size) / (window_size - overlap)) + 1, window_size, window_size)\n",
    "\n",
    "    return np.lib.stride_tricks.as_strided(array, strides=strides, shape=shape).reshape(-1, window_size, window_size)\n",
    "\n",
    "\n",
    "def rolling_3d_window(arr, ws, ol, dim=0):\n",
    "    bar = progressbar.ProgressBar(maxval=arr.shape[dim], widgets=[progressbar.Bar('=', '[', ']'), ' ', progressbar.Percentage()]) \n",
    "    bar.start()\n",
    "    bar_iterator = 0\n",
    "    \n",
    "    for i in range(0, arr.shape[dim]):\n",
    "        mvwd = moving_window_array(arr, window_size=ws, overlap=ol)\n",
    "        mvwd = np.reshape(mvwd,(1,mvwd.shape[0],mvwd.shape[1], mvwd.shape[2]))\n",
    "        if i == 0:\n",
    "            mvwd_out = copy.copy(mvwd)\n",
    "        else:\n",
    "            mvwd_out = np.append(mvwd_out,mvwd,0)\n",
    "        bar.update(bar_iterator+1)\n",
    "        bar_iterator += 1\n",
    "    return(mvwd_out)"
   ]
  },
  {
   "cell_type": "code",
   "execution_count": 8,
   "metadata": {},
   "outputs": [],
   "source": [
    "test_arr = np.random.randint(0, 100, size=(30, 10, 10))\n",
    "test_out = rolling_3d_window(test_arr, 3, 2)"
   ]
  },
  {
   "cell_type": "code",
   "execution_count": 10,
   "metadata": {},
   "outputs": [
    {
     "name": "stderr",
     "output_type": "stream",
     "text": [
      "[                                                                        ] N/A%"
     ]
    }
   ],
   "source": []
  },
  {
   "cell_type": "code",
   "execution_count": 11,
   "metadata": {},
   "outputs": [
    {
     "data": {
      "text/plain": [
       "(30, 224, 3, 3)"
      ]
     },
     "execution_count": 11,
     "metadata": {},
     "output_type": "execute_result"
    }
   ],
   "source": [
    "test_out.shape"
   ]
  }
 ],
 "metadata": {
  "kernelspec": {
   "display_name": "Python 3",
   "language": "python",
   "name": "python3"
  },
  "language_info": {
   "codemirror_mode": {
    "name": "ipython",
    "version": 3
   },
   "file_extension": ".py",
   "mimetype": "text/x-python",
   "name": "python",
   "nbconvert_exporter": "python",
   "pygments_lexer": "ipython3",
   "version": "3.8.5"
  }
 },
 "nbformat": 4,
 "nbformat_minor": 4
}
